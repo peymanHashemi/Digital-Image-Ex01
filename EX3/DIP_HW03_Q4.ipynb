{
 "cells": [
  {
   "cell_type": "markdown",
   "metadata": {},
   "source": [
    "# Digital Image processing Exercise 3-4\n",
    "\n",
    "Amirkabir University of Technology\n",
    "\n",
    "Dr. Rahmati\n",
    "\n",
    "by Gholamreza Dar 400131018\n",
    "\n",
    "Spring 2022"
   ]
  },
  {
   "cell_type": "code",
   "execution_count": null,
   "metadata": {},
   "outputs": [],
   "source": [
    "import numpy as np\n",
    "import cv2\n",
    "import matplotlib.pyplot as plt\n",
    "import seaborn as sns; sns.set()\n",
    "sns.set_style('dark')"
   ]
  },
  {
   "cell_type": "markdown",
   "metadata": {},
   "source": [
    "## Functions"
   ]
  },
  {
   "cell_type": "code",
   "execution_count": null,
   "metadata": {},
   "outputs": [],
   "source": [
    "def rgb(img):\n",
    "    return cv2.cvtColor(img, cv2.COLOR_BGR2RGB)\n",
    "\n",
    "def bgr(img):\n",
    "    return cv2.cvtColor(img, cv2.COLOR_RGB2BGR)\n",
    "\n",
    "def gray(img):\n",
    "    return cv2.cvtColor(img, cv2.COLOR_RGB2GRAY)\n",
    "\n",
    "def disp(img, title='', s=8, vmin=None, vmax=None):\n",
    "    plt.figure(figsize=(s,s))\n",
    "    plt.axis('off')\n",
    "    if vmin is not None and vmax is not None:\n",
    "        plt.imshow(img, cmap='gray', vmin=vmin, vmax=vmax)\n",
    "    else:\n",
    "        plt.imshow(img, cmap='gray')\n",
    "    plt.title(title)\n",
    "    plt.show()"
   ]
  },
  {
   "cell_type": "markdown",
   "metadata": {},
   "source": [
    "### Fourier Aanalysis"
   ]
  },
  {
   "cell_type": "code",
   "execution_count": null,
   "metadata": {},
   "outputs": [],
   "source": [
    "def fourier_analysis(img):\n",
    "    fourier_img = cv2.dft(img.astype(np.float32), flags=cv2.DFT_COMPLEX_OUTPUT)\n",
    "    fourier_img_shift = np.fft.fftshift(fourier_img)\n",
    "    real = fourier_img_shift[:,:,0]\n",
    "    imag = fourier_img_shift[:,:,1]\n",
    "    magnitude = cv2.magnitude(real, imag)\n",
    "    phase = cv2.phase(real, imag)\n",
    "    return magnitude, phase\n"
   ]
  },
  {
   "cell_type": "markdown",
   "metadata": {},
   "source": [
    "### Apply Fourier Filter"
   ]
  },
  {
   "cell_type": "code",
   "execution_count": null,
   "metadata": {},
   "outputs": [],
   "source": [
    "def apply_fourier_filter(img, mask):\n",
    "    mask = mask[:, :, np.newaxis]\n",
    "    img_fourier = cv2.dft(img.astype(np.float32), flags=cv2.DFT_COMPLEX_OUTPUT)\n",
    "    img_fourier_shift = np.fft.fftshift(img_fourier)\n",
    "    img_fourier_shift *= mask\n",
    "    img_fourier_shift_back = np.fft.ifftshift(img_fourier_shift)\n",
    "    img_fourier_inverse = cv2.idft(img_fourier_shift_back, flags=cv2.DFT_SCALE)\n",
    "\n",
    "    return img_fourier_inverse"
   ]
  },
  {
   "cell_type": "markdown",
   "metadata": {},
   "source": [
    "### Plot Magnitude and Phase"
   ]
  },
  {
   "cell_type": "code",
   "execution_count": null,
   "metadata": {},
   "outputs": [],
   "source": [
    "def plot_magnitude_and_phase(img, name, color_space=\"RGB\", vmin=None, vmax=None):\n",
    "\n",
    "    # Change colorspace\n",
    "    channel_labels = []\n",
    "    if color_space == \"RGB\":\n",
    "        channel_labels = [\"R\", \"G\", \"B\"]\n",
    "    elif color_space == \"HSV\":\n",
    "        img = cv2.cvtColor(img, cv2.COLOR_RGB2HSV)\n",
    "        channel_labels = [\"H\", \"S\", \"V\"]\n",
    "    elif color_space == \"LAB\":\n",
    "        img = cv2.cvtColor(img, cv2.COLOR_RGB2LAB)\n",
    "        channel_labels = [\"L\", \"a\", \"b\"]\n",
    "    elif color_space == \"YCBCR\":\n",
    "        img = cv2.cvtColor(img, cv2.COLOR_RGB2YCR_CB)\n",
    "        channel_labels = [\"Y\", \"Cr\", \"Cb\"]\n",
    "    \n",
    "    # Seperate channels\n",
    "    channel_0 = img[:,:,0]\n",
    "    channel_1 = img[:,:,1]\n",
    "    channel_2 = img[:,:,2]\n",
    "    \n",
    "    # Fourier analysis on each channel\n",
    "    mag_0, _ = fourier_analysis(channel_0)\n",
    "    mag_1, _ = fourier_analysis(channel_1)\n",
    "    mag_2, _ = fourier_analysis(channel_2)\n",
    "\n",
    "    # Take log for better visualization\n",
    "    mag_0 = np.log(mag_0)\n",
    "    mag_1 = np.log(mag_1)\n",
    "    mag_2 = np.log(mag_2)\n",
    "\n",
    "    # Display the magnitude of each channel\n",
    "    fig, axs = plt.subplots(1,3, figsize=(15,5), constrained_layout=True)\n",
    "    fig.suptitle(f\"'{name}' Fourier Analysis | {color_space}\", fontsize=14, y=0.925)\n",
    "\n",
    "    axs[0].set_axis_off()\n",
    "    axs[1].set_axis_off()\n",
    "    axs[2].set_axis_off()\n",
    "\n",
    "    axs[0].set_title(channel_labels[0])\n",
    "    axs[1].set_title(channel_labels[1])\n",
    "    axs[2].set_title(channel_labels[2])\n",
    "\n",
    "    if vmin is not None and vmax is not None:\n",
    "        axs[0].imshow(mag_0, cmap='gray', vmin=vmin, vmax=vmax)\n",
    "        axs[1].imshow(mag_1, cmap='gray', vmin=vmin, vmax=vmax)\n",
    "        axs[2].imshow(mag_2, cmap='gray', vmin=vmin, vmax=vmax)\n",
    "    else:\n",
    "        axs[0].imshow(mag_0, cmap='gray')\n",
    "        axs[1].imshow(mag_1, cmap='gray')\n",
    "        axs[2].imshow(mag_2, cmap='gray')\n",
    "    \n",
    "    fig.savefig(f'{name}_fourier_analysis_{color_space}.png')\n",
    "    plt.show()"
   ]
  },
  {
   "cell_type": "markdown",
   "metadata": {},
   "source": [
    "### Get Mask"
   ]
  },
  {
   "cell_type": "code",
   "execution_count": null,
   "metadata": {},
   "outputs": [],
   "source": [
    "def get_mask(magnitude, threshold=0.1, center_margin_percent=5, blur_mask=31, erode_mask=7, erode_iter=4):\n",
    "    mask = np.ones(magnitude.shape, dtype=np.float32)\n",
    "    w, h = magnitude.shape\n",
    "    m = center_margin_percent / 100.0 / 2.0\n",
    "\n",
    "    # Preprocess magnitude\n",
    "    if erode_mask > 0:\n",
    "        if erode_mask % 2 == 0:\n",
    "            erode_mask += 1\n",
    "        kernel = cv2.getStructuringElement(cv2.MORPH_ELLIPSE, (7,7))\n",
    "        magnitude = cv2.morphologyEx(magnitude, cv2.MORPH_DILATE, kernel, iterations=erode_iter)\n",
    "\n",
    "    # Threshold\n",
    "    threshold/= 10000.0\n",
    "    mask[magnitude >= threshold*magnitude.max()] = 0\n",
    "    \n",
    "    # Always want the center to be 1\n",
    "    mask[w//2-int(m*w):w//2+int(m*w), h//2-int(m*h):h//2+int(m*h)] = 1\n",
    "\n",
    "    # Blur the mask to avoid ringing\n",
    "    if blur_mask > 0:\n",
    "        if blur_mask % 2 == 0:\n",
    "            blur_mask += 1\n",
    "        mask = cv2.GaussianBlur(mask, (blur_mask, blur_mask), 0)\n",
    "\n",
    "    return mask, magnitude"
   ]
  },
  {
   "cell_type": "code",
   "execution_count": null,
   "metadata": {},
   "outputs": [],
   "source": [
    "# # Cagi_2 mask test\n",
    "# magnitude, _ = fourier_analysis(cagi_2[:,:,0])\n",
    "# # disp(np.log(magnitude), 'Magnitude of Channel 0')\n",
    "# mask, mag = get_mask(magnitude, threshold=45, center_margin_percent=6, blur_mask=20)\n",
    "# print(mask.max())\n",
    "# disp(np.log(mag), 'magnitude', vmin=8, vmax=20)\n",
    "# disp(mask, 'Mask', vmin=0, vmax=1)\n",
    "# disp(np.log(magnitude*mask+0.0001), 'magnitude masked', vmin=3, vmax=20)"
   ]
  },
  {
   "cell_type": "code",
   "execution_count": null,
   "metadata": {},
   "outputs": [],
   "source": [
    "# # Cagi_1 mask test\n",
    "# magnitude, _ = fourier_analysis(cagi_1[:,:,0])\n",
    "# # disp(np.log(magnitude), 'Magnitude of Channel 0')\n",
    "# mask, mag = get_mask(magnitude, threshold=45, center_margin_percent=6, blur_mask=20)\n",
    "# print(mask.max())\n",
    "# disp(mask, 'Mask', vmin=0, vmax=1)\n",
    "# disp(np.log(mag), 'magnitude', vmin=8, vmax=20)\n",
    "# disp(np.log(magnitude*mask+0.0001), 'magnitude masked', vmin=3, vmax=20)"
   ]
  },
  {
   "cell_type": "code",
   "execution_count": null,
   "metadata": {},
   "outputs": [],
   "source": [
    "# # Cagi_1 mask test\n",
    "# # Convert to ycbcr\n",
    "# cagi_2_ycbcr = cv2.cvtColor(cagi_2, cv2.COLOR_RGB2YCR_CB)\n",
    "# magnitude, _ = fourier_analysis(cagi_2_ycbcr[:,:,0])\n",
    "# # disp(np.log(magnitude), 'Magnitude of Channel 0')\n",
    "# mask, mag = get_mask(magnitude, threshold=10, center_margin_percent=6, blur_mask=20)\n",
    "# print(mask.max())\n",
    "# disp(mask, 'Mask', vmin=0, vmax=1)\n",
    "# disp(np.log(mag), 'magnitude', vmin=8, vmax=20)\n",
    "# disp(np.log(magnitude*mask+0.0001), 'magnitude masked', vmin=8, vmax=20)"
   ]
  },
  {
   "cell_type": "markdown",
   "metadata": {},
   "source": [
    "### Display Mask"
   ]
  },
  {
   "cell_type": "code",
   "execution_count": null,
   "metadata": {},
   "outputs": [],
   "source": [
    "def display_mask(img, mask, channel, vmin, vmax):\n",
    "\n",
    "    magnitude, _ = fourier_analysis(img[:, :, channel])\n",
    "    mask_norm = mask.astype(np.float32)/255\n",
    "\n",
    "    fig, axs = plt.subplots(1,3, figsize=(15,5), constrained_layout=True)\n",
    "\n",
    "    axs[0].set_axis_off()\n",
    "    axs[1].set_axis_off()\n",
    "    axs[2].set_axis_off()\n",
    "\n",
    "    axs[0].set_title('Original')\n",
    "    axs[1].set_title('Mask')\n",
    "    axs[2].set_title('Filtered')\n",
    "\n",
    "    if vmin is not None and vmax is not None:\n",
    "        axs[0].imshow(np.log(magnitude), cmap='gray', vmin=vmin, vmax=vmax)\n",
    "        axs[1].imshow(mask_norm, cmap='gray')\n",
    "        axs[2].imshow(np.log(magnitude*mask_norm+0.0001), cmap='gray', vmin=vmin, vmax=vmax)\n",
    "    else:\n",
    "        axs[0].imshow(np.log(magnitude), cmap='gray')\n",
    "        axs[1].imshow(mask_norm, cmap='gray')\n",
    "        axs[2].imshow(np.log(magnitude*mask_norm+0.0001), cmap='gray')"
   ]
  },
  {
   "cell_type": "markdown",
   "metadata": {},
   "source": [
    "### Remove Artifacts"
   ]
  },
  {
   "cell_type": "code",
   "execution_count": null,
   "metadata": {},
   "outputs": [],
   "source": [
    "def remove_artifacts(img, name, color_space=\"RGB\", mask_thresholds=[14, 14, 14], center_margin_percent=[5, 5, 5], blur_mask=[0, 0, 0], erode_mask=[7, 7, 7], erode_iter=[4, 4, 4], vmin=5, vmax=18, figsize_list=[(10,10), (10,10), (15,10)], manual_mask=None):\n",
    "    \n",
    "    # Convert img to float32\n",
    "    img = img.astype(np.float32)\n",
    "\n",
    "    # Change colorspace\n",
    "    if color_space == \"RGB\":\n",
    "        pass\n",
    "    elif color_space == \"HSV\":\n",
    "        img = cv2.cvtColor(img, cv2.COLOR_RGB2HSV)\n",
    "    elif color_space == \"LAB\":\n",
    "        img = cv2.cvtColor(img, cv2.COLOR_RGB2LAB)\n",
    "    elif color_space == \"YCBCR\":\n",
    "        img = cv2.cvtColor(img, cv2.COLOR_RGB2YCR_CB)\n",
    "\n",
    "    # Make a copy of the image (This will be the filtered image)\n",
    "    img_result = img.copy()\n",
    "\n",
    "    magnitudes = []\n",
    "    magnitude_news = []\n",
    "    masks = []\n",
    "    # Make a mask for each channel and filter it based on its mask\n",
    "    for channel in range(img.shape[2]):\n",
    "        # shift and fourier Transform on each channel\n",
    "        img_fourier = cv2.dft(img[:,:,channel], flags=cv2.DFT_COMPLEX_OUTPUT)\n",
    "        img_fourier_shift = np.fft.fftshift(img_fourier)\n",
    "        # Get the magnitude and pass it to the mask function\n",
    "        magnitude = cv2.magnitude(img_fourier_shift[:,:,0], img_fourier_shift[:,:,1])\n",
    "        magnitudes.append(magnitude)\n",
    "        # Generate a mask based on the bright spots of magnitude\n",
    "        mask, magnitude_new = get_mask(magnitude, mask_thresholds[channel], center_margin_percent=center_margin_percent[channel], blur_mask=blur_mask[channel], erode_mask=erode_mask[channel], erode_iter=erode_iter[channel])\n",
    "        magnitude_news.append(magnitude_new)\n",
    "        if manual_mask is not None:\n",
    "            mask = manual_mask\n",
    "        masks.append(mask)\n",
    "        # Apply the mask to the fourier image\n",
    "        img_fourier_shift *= mask[:,:,np.newaxis]\n",
    "        # ishift and inverse fourier transform on each channel\n",
    "        img_fourier_shift_back = np.fft.ifftshift(img_fourier_shift)\n",
    "        img_fourier_inverse = cv2.idft(img_fourier_shift_back, flags=cv2.DFT_SCALE | cv2.DFT_REAL_OUTPUT)\n",
    "        # Merge the channels\n",
    "        img_result[:,:,channel] = img_fourier_inverse\n",
    "    \n",
    "\n",
    "    # 1. Plot individual channels\n",
    "    fig, axs = plt.subplots(3,2, figsize=figsize_list[0], constrained_layout=True)\n",
    "    for channel in range(img.shape[2]):\n",
    "        axs[channel, 0].set_axis_off()\n",
    "        axs[channel, 0].set_title(f'Channel {channel}')\n",
    "        axs[channel, 0].imshow(img[:,:,channel], cmap='gray')\n",
    "\n",
    "        axs[channel, 1].set_axis_off()\n",
    "        axs[channel, 1].set_title(f'Channel {channel} Filtered')\n",
    "        axs[channel, 1].imshow(img_result[:,:,channel], cmap='gray')\n",
    "    fig.savefig(f'{name}_Filtering_Channels_{color_space}.png')\n",
    "    \n",
    "    # Convert back to RGB\n",
    "    if color_space == \"RGB\":\n",
    "        pass\n",
    "    elif color_space == \"HSV\":\n",
    "        img_result = cv2.cvtColor(img_result, cv2.COLOR_HSV2RGB)\n",
    "        img = cv2.cvtColor(img, cv2.COLOR_HSV2RGB)\n",
    "    elif color_space == \"LAB\":\n",
    "        img_result = cv2.cvtColor(img_result, cv2.COLOR_LAB2RGB)\n",
    "        img = cv2.cvtColor(img, cv2.COLOR_LAB2RGB)\n",
    "    elif color_space == \"YCBCR\":\n",
    "        img_result = cv2.cvtColor(img_result, cv2.COLOR_YCR_CB2RGB)\n",
    "        img = cv2.cvtColor(img, cv2.COLOR_YCR_CB2RGB)\n",
    "    \n",
    "    # Convert back to uint8\n",
    "    # for channel in range(img.shape[2]):\n",
    "    #     img[:,:,channel] -= np.min(img[:,:,channel])\n",
    "    #     img[:,:,channel] /= np.max(img[:,:,channel])\n",
    "    #     img[:,:,channel] *= 255\n",
    "    print(\"img\")\n",
    "    for i in range(3):\n",
    "        print(np.min(img[:,:,i]), np.max(img[:,:,i]))\n",
    "    img = img.astype(np.uint8)\n",
    "\n",
    "    # for channel in range(img_result.shape[2]):\n",
    "    #     img_result[:,:,channel] -= np.min(img_result[:,:,channel])\n",
    "    #     img_result[:,:,channel] /= np.max(img_result[:,:,channel])\n",
    "    #     img_result[:,:,channel] *= 255\n",
    "    print(\"img_result\")\n",
    "    for i in range(3):\n",
    "        print(np.min(img_result[:,:,i]), np.max(img_result[:,:,i]))\n",
    "    img_result = img_result.clip(0, 255)\n",
    "    img_result = img_result.astype(np.uint8)\n",
    "    \n",
    "    # 2. Plot the full image\n",
    "    fig, axs = plt.subplots(1,2, figsize=figsize_list[1], constrained_layout=True)\n",
    "    axs[0].set_axis_off()\n",
    "    axs[0].set_title(f'\"{name}\" Original')\n",
    "    axs[0].imshow(img, cmap='gray')\n",
    "\n",
    "    axs[1].set_axis_off()\n",
    "    axs[1].set_title(f'\"{name}\" Filtered')\n",
    "    axs[1].imshow(img_result, cmap='gray')\n",
    "    fig.savefig(f'{name}_Filtered_Image_{color_space}.png')\n",
    "    \n",
    "    # 3. Plot the mask\n",
    "    fig, axs = plt.subplots(3,4, figsize=figsize_list[2], constrained_layout=True)\n",
    "    for channel in range(img.shape[2]):\n",
    "        axs[channel, 0].set_axis_off()\n",
    "        axs[channel, 0].set_title(f'Channel {channel} Fourier')\n",
    "        axs[channel, 0].imshow(np.log(magnitudes[channel]), cmap='gray', vmin=vmin, vmax=vmax)\n",
    "\n",
    "        axs[channel, 1].set_axis_off()\n",
    "        axs[channel, 1].set_title(f'Channel {channel} Fourier Processed')\n",
    "        axs[channel, 1].imshow(np.log(magnitude_news[channel]), cmap='gray', vmin=vmin, vmax=vmax)\n",
    "\n",
    "        axs[channel, 2].set_axis_off()\n",
    "        axs[channel, 2].set_title(f'Channel {channel} Mask')\n",
    "        axs[channel, 2].imshow(masks[channel], cmap='gray')\n",
    "\n",
    "        axs[channel, 3].set_axis_off()\n",
    "        axs[channel, 3].set_title(f'Channel {channel} Fourier Masked')\n",
    "        axs[channel, 3].imshow(np.log(magnitudes[channel]*masks[channel]+0.00000000001), cmap='gray', vmin=vmin, vmax=vmax)\n",
    "    fig.savefig(f'{name}_Masking_{color_space}.png')\n",
    "\n",
    "\n",
    "    return img_result\n",
    "    "
   ]
  },
  {
   "cell_type": "markdown",
   "metadata": {},
   "source": [
    "## Load Images"
   ]
  },
  {
   "cell_type": "code",
   "execution_count": null,
   "metadata": {},
   "outputs": [],
   "source": [
    "diagonal_grid_img = rgb(cv2.imread('inputs/P4/a/diagonal_gird.png'))\n",
    "dot_grid = rgb(cv2.imread('inputs/P4/a/dot_grid.png'))\n",
    "orthogonal_lines = rgb(cv2.imread('inputs/P4/a/orthogonal_lines.png'))\n",
    "\n",
    "cagi_1 = rgb(cv2.imread('inputs/P4/b/cagi_1.png'))\n",
    "cagi_1_mask = cv2.imread('inputs/P4/b/cagi_1_mask.png', 0)\n",
    "cagi_1_mask_2 = cv2.imread('inputs/P4/b/cagi_1_mask_2.png', 0)\n",
    "cagi_1_mask_3 = cv2.imread('inputs/P4/b/cagi_1_mask_3.png', 0)\n",
    "cagi_1_mask_4 = cv2.imread('inputs/P4/b/cagi_1_mask_4.png', 0)\n",
    "cagi_2_mask = cv2.imread('inputs/P4/b/cagi_2_mask.png', 0)\n",
    "cagi_2_mask_2 = cv2.imread('inputs/P4/b/cagi_2_mask_2.png', 0)\n",
    "cagi_2 = rgb(cv2.imread('inputs/P4/b/cagi_2.png'))\n",
    "cagi_3 = rgb(cv2.imread('inputs/P4/b/cagi_3.png'))\n",
    "test_rgy = rgb(cv2.imread('inputs/P4/b/test_rgy.png'))\n",
    "test_rgy_mask = cv2.imread('inputs/P4/b/test_rgy_mask.png', 0)\n",
    "\n",
    "munker_hearts = rgb(cv2.imread('inputs/P4/c/munker_hearts.png'))\n",
    "munker_spheres_1 = rgb(cv2.imread('inputs/P4/c/munker_spheres_1.png'))\n",
    "munker_spheres_2 = rgb(cv2.imread('inputs/P4/c/munker_spheres_2.png'))\n",
    "munker_zigzag_lines = rgb(cv2.imread('inputs/P4/c/munker_zigzag_lines.png'))\n",
    "\n",
    "munker_cubes= rgb(cv2.imread('inputs/P4/d/munker_cubes.png'))\n",
    "munker_hearts_2= rgb(cv2.imread('inputs/P4/d/munker_hears_2.png'))\n",
    "munker_monspiral= rgb(cv2.imread('inputs/P4/d/munker_monspiral.png'))"
   ]
  },
  {
   "cell_type": "markdown",
   "metadata": {},
   "source": [
    "## A)"
   ]
  },
  {
   "cell_type": "code",
   "execution_count": null,
   "metadata": {},
   "outputs": [],
   "source": [
    "color_spaces = [\"RGB\", \"HSV\", \"LAB\", \"YCBCR\"]\n",
    "vmin = 6\n",
    "vmax = 19"
   ]
  },
  {
   "cell_type": "code",
   "execution_count": null,
   "metadata": {},
   "outputs": [],
   "source": [
    "for color_space in color_spaces:\n",
    "    plot_magnitude_and_phase(diagonal_grid_img, 'diagonal_grid', color_space, vmin, vmax)"
   ]
  },
  {
   "cell_type": "markdown",
   "metadata": {},
   "source": [
    "Best: **Cr** in YCbCr"
   ]
  },
  {
   "cell_type": "code",
   "execution_count": null,
   "metadata": {},
   "outputs": [],
   "source": [
    "for color_space in color_spaces:\n",
    "    plot_magnitude_and_phase(dot_grid, 'dot_grid', color_space, vmin, vmax)"
   ]
  },
  {
   "cell_type": "markdown",
   "metadata": {},
   "source": [
    "Best: **Cr** in YCbCr"
   ]
  },
  {
   "cell_type": "code",
   "execution_count": null,
   "metadata": {},
   "outputs": [],
   "source": [
    "for color_space in color_spaces:\n",
    "    plot_magnitude_and_phase(orthogonal_lines, 'orthogonal_lines', color_space, vmin, vmax)"
   ]
  },
  {
   "cell_type": "markdown",
   "metadata": {},
   "source": [
    "Best: **a** in Lab"
   ]
  },
  {
   "cell_type": "markdown",
   "metadata": {},
   "source": [
    "## B)"
   ]
  },
  {
   "cell_type": "code",
   "execution_count": null,
   "metadata": {},
   "outputs": [],
   "source": [
    "color_spaces = [\"RGB\", \"HSV\", \"LAB\", \"YCBCR\"]\n",
    "vmin = 5\n",
    "vmax = 14"
   ]
  },
  {
   "cell_type": "code",
   "execution_count": null,
   "metadata": {},
   "outputs": [],
   "source": [
    "for color_space in color_spaces:\n",
    "    plot_magnitude_and_phase(cagi_1, 'cagi_1', color_space, vmin, vmax)"
   ]
  },
  {
   "cell_type": "markdown",
   "metadata": {},
   "source": [
    "Best: **Cr** in YCbCr"
   ]
  },
  {
   "cell_type": "code",
   "execution_count": null,
   "metadata": {},
   "outputs": [],
   "source": [
    "for color_space in color_spaces:\n",
    "    plot_magnitude_and_phase(cagi_2, 'cagi_2', color_space, vmin, vmax)"
   ]
  },
  {
   "cell_type": "markdown",
   "metadata": {},
   "source": [
    "Best: **Cr** in YCbCr"
   ]
  },
  {
   "cell_type": "code",
   "execution_count": null,
   "metadata": {},
   "outputs": [],
   "source": [
    "for color_space in color_spaces:\n",
    "    plot_magnitude_and_phase(cagi_3, 'cagi_3', color_space, vmin, vmax)"
   ]
  },
  {
   "cell_type": "markdown",
   "metadata": {},
   "source": [
    "Best: **Cr** in YCbCr"
   ]
  },
  {
   "cell_type": "markdown",
   "metadata": {},
   "source": [
    "### Design a mask"
   ]
  },
  {
   "cell_type": "code",
   "execution_count": null,
   "metadata": {},
   "outputs": [],
   "source": [
    "display_mask(cagi_1, cagi_1_mask, channel=0, vmin=6, vmax=16)"
   ]
  },
  {
   "cell_type": "code",
   "execution_count": null,
   "metadata": {},
   "outputs": [],
   "source": [
    "display_mask(cagi_2, cagi_2_mask_2, channel=0, vmin=6, vmax=16)"
   ]
  },
  {
   "cell_type": "markdown",
   "metadata": {},
   "source": [
    "### Remove Artifacts"
   ]
  },
  {
   "cell_type": "code",
   "execution_count": null,
   "metadata": {},
   "outputs": [],
   "source": [
    "remove_artifacts(\n",
    "    test_rgy, \"Test Image\", \"RGB\",\n",
    "    mask_thresholds=[100, 100, 60], \n",
    "    center_margin_percent=[3,3,3], \n",
    "    blur_mask=[0,0,0],\n",
    "    erode_mask=[2,2,2],\n",
    "    erode_iter=[3,3,3],\n",
    "    vmin=5, vmax=18,\n",
    "    figsize_list=[(6,10), (10,10), (14,9)],\n",
    "    manual_mask = None);"
   ]
  },
  {
   "cell_type": "markdown",
   "metadata": {},
   "source": [
    "#### Cagi 1 RGB"
   ]
  },
  {
   "cell_type": "code",
   "execution_count": null,
   "metadata": {},
   "outputs": [],
   "source": [
    "remove_artifacts(\n",
    "    cagi_1, \"cagi_1\", \"RGB\", \n",
    "    mask_thresholds=[45, 45, 45], \n",
    "    center_margin_percent=[10, 10, 10], \n",
    "    blur_mask=[30, 30, 30],\n",
    "    erode_mask=[7, 7, 7],\n",
    "    erode_iter=[4, 4, 4],\n",
    "    vmin=5, vmax=18,\n",
    "    figsize_list=[(10,10), (10,10), (17,9)]);"
   ]
  },
  {
   "cell_type": "markdown",
   "metadata": {},
   "source": [
    "#### Cagi 1 YCbCr"
   ]
  },
  {
   "cell_type": "code",
   "execution_count": null,
   "metadata": {},
   "outputs": [],
   "source": [
    "remove_artifacts(\n",
    "    cagi_1, \"cagi_1\", \"YCBCR\", \n",
    "    mask_thresholds=[45, 250, 250], \n",
    "    center_margin_percent=[10, 10, 10], \n",
    "    blur_mask=[30, 30, 30],\n",
    "    erode_mask=[7, 7, 7],\n",
    "    erode_iter=[4, 4, 4],\n",
    "    vmin=5, vmax=18,\n",
    "    figsize_list=[(10,10), (10,10), (17,9)]);"
   ]
  },
  {
   "cell_type": "markdown",
   "metadata": {},
   "source": [
    "#### Cagi 2 YCBCR"
   ]
  },
  {
   "cell_type": "code",
   "execution_count": null,
   "metadata": {},
   "outputs": [],
   "source": [
    "remove_artifacts(\n",
    "    cagi_2, \"cagi_2\", \"YCBCR\", \n",
    "    mask_thresholds=[10, 150, 150], \n",
    "    center_margin_percent=[20, 8.5, 8.5],\n",
    "    blur_mask=[70, 20, 20],\n",
    "    erode_mask=[7, 7, 7],\n",
    "    erode_iter=[5, 2, 2],\n",
    "    vmin=8, vmax=18,\n",
    "    figsize_list=[(10,15), (10,10), (18,15)]);"
   ]
  },
  {
   "cell_type": "markdown",
   "metadata": {},
   "source": [
    "#### Cagi 3 YCBCR"
   ]
  },
  {
   "cell_type": "code",
   "execution_count": null,
   "metadata": {},
   "outputs": [],
   "source": [
    "remove_artifacts(\n",
    "    cagi_3, \"cagi_3\", \"YCBCR\", \n",
    "    mask_thresholds=[50, 150, 200], \n",
    "    center_margin_percent=[12, 8, 8],\n",
    "    blur_mask=[35, 25, 25],\n",
    "    erode_mask=[9, 7, 7],\n",
    "    erode_iter=[4, 3, 3],\n",
    "    vmin=8, vmax=18,\n",
    "    figsize_list=[(10,11), (10,10), (14,10)]);"
   ]
  },
  {
   "cell_type": "markdown",
   "metadata": {},
   "source": [
    "#### Munker hearts YCBCR"
   ]
  },
  {
   "cell_type": "code",
   "execution_count": null,
   "metadata": {},
   "outputs": [],
   "source": [
    "remove_artifacts(\n",
    "    munker_hearts, \"Munker Hearts\", \"YCBCR\", \n",
    "    mask_thresholds=[12, 90, 90], \n",
    "    center_margin_percent=[12, 12, 12],\n",
    "    blur_mask=[35, 40, 40],\n",
    "    erode_mask=[9, 7, 7],\n",
    "    erode_iter=[4, 3, 3],\n",
    "    vmin=8, vmax=18,\n",
    "    figsize_list=[(10,11), (10,10), (14,10)]);"
   ]
  },
  {
   "cell_type": "markdown",
   "metadata": {},
   "source": [
    "#### Munker Spheres 1"
   ]
  },
  {
   "cell_type": "code",
   "execution_count": null,
   "metadata": {},
   "outputs": [],
   "source": [
    "remove_artifacts(\n",
    "    munker_spheres_1, \"Munker Spheres 1\", \"YCBCR\", \n",
    "    mask_thresholds=[12, 40, 40], \n",
    "    center_margin_percent=[5, 5, 5],\n",
    "    blur_mask=[10, 15, 25],\n",
    "    erode_mask=[9, 9, 9],\n",
    "    erode_iter=[4, 4, 4],\n",
    "    vmin=8, vmax=18,\n",
    "    figsize_list=[(10,11), (10,10), (14,10)]);"
   ]
  },
  {
   "cell_type": "markdown",
   "metadata": {},
   "source": [
    "#### Munker Spheres 2"
   ]
  },
  {
   "cell_type": "code",
   "execution_count": null,
   "metadata": {},
   "outputs": [],
   "source": [
    "remove_artifacts(\n",
    "    munker_spheres_2, \"Munker Spheres 2\", \"YCBCR\", \n",
    "    mask_thresholds=[12, 40, 40], \n",
    "    center_margin_percent=[5, 5, 5],\n",
    "    blur_mask=[10, 15, 25],\n",
    "    erode_mask=[9, 9, 9],\n",
    "    erode_iter=[4, 4, 4],\n",
    "    vmin=8, vmax=18,\n",
    "    figsize_list=[(10,11), (10,10), (14,10)]);"
   ]
  },
  {
   "cell_type": "markdown",
   "metadata": {},
   "source": [
    "#### Munker zigzag lines"
   ]
  },
  {
   "cell_type": "code",
   "execution_count": null,
   "metadata": {},
   "outputs": [],
   "source": [
    "remove_artifacts(\n",
    "    munker_zigzag_lines, \"Munker Zaigzag lines\", \"RGB\", \n",
    "    mask_thresholds=[12, 40, 40], \n",
    "    center_margin_percent=[5, 5, 5],\n",
    "    blur_mask=[20, 20, 20],\n",
    "    erode_mask=[9, 9, 9],\n",
    "    erode_iter=[4, 4, 4],\n",
    "    vmin=8, vmax=18,\n",
    "    figsize_list=[(10,8), (10,10), (16,7)]);"
   ]
  },
  {
   "cell_type": "code",
   "execution_count": null,
   "metadata": {},
   "outputs": [],
   "source": [
    "remove_artifacts(\n",
    "    munker_cubes, \"Munker Cubes\", \"YCBCR\", \n",
    "    mask_thresholds=[12, 40, 40], \n",
    "    center_margin_percent=[5, 5, 5],\n",
    "    blur_mask=[20, 20, 20],\n",
    "    erode_mask=[9, 9, 9],\n",
    "    erode_iter=[4, 4, 4],\n",
    "    vmin=8, vmax=18,\n",
    "    figsize_list=[(8,8), (10,10), (14,7)]);"
   ]
  },
  {
   "cell_type": "code",
   "execution_count": null,
   "metadata": {},
   "outputs": [],
   "source": [
    "remove_artifacts(\n",
    "    munker_hearts_2, \"Munker Hearts 2\", \"RGB\", \n",
    "    mask_thresholds=[12, 40, 40], \n",
    "    center_margin_percent=[5, 5, 5],\n",
    "    blur_mask=[20, 20, 20],\n",
    "    erode_mask=[9, 9, 9],\n",
    "    erode_iter=[4, 4, 4],\n",
    "    vmin=8, vmax=18,\n",
    "    figsize_list=[(8,13), (10,10), (12,9)]);"
   ]
  },
  {
   "cell_type": "code",
   "execution_count": null,
   "metadata": {},
   "outputs": [],
   "source": [
    "remove_artifacts(\n",
    "    munker_monspiral, \"Munker Monspiral\", \"RGB\", \n",
    "    mask_thresholds=[12, 40, 40], \n",
    "    center_margin_percent=[5, 5, 5],\n",
    "    blur_mask=[20, 20, 20],\n",
    "    erode_mask=[9, 9, 9],\n",
    "    erode_iter=[4, 4, 4],\n",
    "    vmin=8, vmax=18,\n",
    "    figsize_list=[(8,13), (10,10), (12,9)]);"
   ]
  },
  {
   "cell_type": "code",
   "execution_count": null,
   "metadata": {},
   "outputs": [],
   "source": []
  },
  {
   "cell_type": "markdown",
   "metadata": {},
   "source": [
    "### YCrCb Test"
   ]
  },
  {
   "cell_type": "code",
   "execution_count": null,
   "metadata": {},
   "outputs": [],
   "source": [
    "mask = cv2.imread('inputs/P4/b/cagi_1_mask.png', 0)\n",
    "disp(mask)"
   ]
  },
  {
   "cell_type": "code",
   "execution_count": null,
   "metadata": {},
   "outputs": [],
   "source": [
    "img = cagi_1.copy()\n",
    "\n",
    "img_ycbcr = cv2.cvtColor(img, cv2.COLOR_RGB2YCrCb)\n",
    "img_ycbcr = img.copy()\n",
    "\n",
    "# Select the best channel\n",
    "Y_channel = img_ycbcr[:,:,0]\n",
    "Cr_channel = img_ycbcr[:,:,1]\n",
    "Cb_channel = img_ycbcr[:,:,2]\n",
    "\n",
    "filter_channels = [0,1,2]\n",
    "\n",
    "# Fourier analysis on the best channel\n",
    "if 0 in filter_channels:\n",
    "    filtered_channel_0 = apply_fourier_filter(Y_channel, mask)\n",
    "else:\n",
    "    filtered_channel_0 = Y_channel.copy()\n",
    "\n",
    "if 1 in filter_channels:\n",
    "    filtered_channel_1 = apply_fourier_filter(Cr_channel, mask)\n",
    "else:\n",
    "    filtered_channel_1 = Cr_channel.copy()\n",
    "\n",
    "if 2 in filter_channels:\n",
    "    filtered_channel_2 = apply_fourier_filter(Cb_channel, mask)\n",
    "else:\n",
    "    filtered_channel_2 = Cb_channel.copy()\n",
    "\n",
    "\n",
    "# Combine the filtered channels \n",
    "filtered_img = np.zeros((img.shape[0], img.shape[1], img.shape[2]), dtype=np.float32)\n",
    "\n",
    "if 0 in filter_channels:\n",
    "    filtered_img[:,:, 0] = cv2.magnitude(filtered_channel_0[:,:,0], filtered_channel_0[:,:,1])\n",
    "    filtered_img[:,:, 0] = (filtered_img[:,:, 0]/filtered_img[:,:, 0].max()*255)\n",
    "else:\n",
    "    filtered_img[:,:, 0] = filtered_channel_0\n",
    "\n",
    "if 1 in filter_channels:\n",
    "    filtered_img[:,:, 1] = cv2.magnitude(filtered_channel_1[:,:,0], filtered_channel_1[:,:,1])\n",
    "    filtered_img[:,:, 1] = (filtered_img[:,:, 1]/filtered_img[:,:, 1].max()*255)\n",
    "else:\n",
    "    filtered_img[:,:, 1] = filtered_channel_1\n",
    "\n",
    "if 2 in filter_channels:\n",
    "    filtered_img[:,:, 2] = cv2.magnitude(filtered_channel_2[:,:,0], filtered_channel_2[:,:,1])\n",
    "    filtered_img[:,:, 2] = (filtered_img[:,:, 2]/filtered_img[:,:, 2].max()*255)\n",
    "else:\n",
    "    filtered_img[:,:, 2] = filtered_channel_2\n",
    "\n",
    "filtered_img = filtered_img.astype(np.uint8)\n",
    "\n",
    "# filtered_img = cv2.cvtColor(filtered_img, cv2.COLOR_YCrCb2RGB)\n",
    "\n",
    "# Display the Original and Filtered Images\n",
    "fig, axs = plt.subplots(1,2, figsize=(15,15), constrained_layout=True)\n",
    "\n",
    "axs[0].set_axis_off()\n",
    "axs[1].set_axis_off()\n",
    "\n",
    "axs[0].set_title('Original ch0')\n",
    "axs[1].set_title('Filtered ch0')\n",
    "\n",
    "axs[0].imshow(img_ycbcr[:,:,0], cmap='gray')\n",
    "# aa = cv2.magnitude(filtered_channel_1[:,:,0], filtered_channel_1[:,:,1])\n",
    "axs[1].imshow(filtered_img[:, :, 0], cmap='gray')\n",
    "# cv2.imwrite(\"bahbahbah.png\", filtered_img[:,:,0])\n",
    "\n",
    "plt.show()\n",
    "\n",
    "fig, axs = plt.subplots(1,2, figsize=(15,15), constrained_layout=True)\n",
    "\n",
    "axs[0].set_axis_off()\n",
    "axs[1].set_axis_off()\n",
    "\n",
    "axs[0].set_title('Original ch1')\n",
    "axs[1].set_title('Filtered ch1')\n",
    "\n",
    "axs[0].imshow(img_ycbcr[:,:,1], cmap='gray')\n",
    "# aa = cv2.magnitude(filtered_channel_1[:,:,0], filtered_channel_1[:,:,1])\n",
    "axs[1].imshow(filtered_img[:, :, 1], cmap='gray')\n",
    "# cv2.imwrite(\"bahbahbah.png\", filtered_img[:,:,0])\n",
    "\n",
    "plt.show()\n",
    "\n",
    "fig, axs = plt.subplots(1,2, figsize=(15,15), constrained_layout=True)\n",
    "\n",
    "axs[0].set_axis_off()\n",
    "axs[1].set_axis_off()\n",
    "\n",
    "axs[0].set_title('Original ch2')\n",
    "axs[1].set_title('Filtered ch2')\n",
    "\n",
    "axs[0].imshow(img_ycbcr[:,:,2], cmap='gray')\n",
    "# aa = cv2.magnitude(filtered_channel_1[:,:,0], filtered_channel_1[:,:,1])\n",
    "axs[1].imshow(filtered_img[:, :, 2], cmap='gray')\n",
    "# cv2.imwrite(\"bahbahbah.png\", filtered_img[:,:,0])\n",
    "\n",
    "plt.show()\n",
    "\n",
    "fig, axs = plt.subplots(1,2, figsize=(15,15), constrained_layout=True)\n",
    "\n",
    "axs[0].set_axis_off()\n",
    "axs[1].set_axis_off()\n",
    "\n",
    "axs[0].set_title('Original Image')\n",
    "axs[1].set_title('Filtered Image')\n",
    "\n",
    "axs[0].imshow(img_ycbcr[:,:,:], cmap='gray')\n",
    "# aa = cv2.magnitude(filtered_channel_1[:,:,0], filtered_channel_1[:,:,1])\n",
    "axs[1].imshow(filtered_img[:, :, :], cmap='gray')\n",
    "# cv2.imwrite(\"bahbahbah.png\", filtered_img[:,:,0])\n",
    "\n",
    "plt.show()\n",
    "    "
   ]
  },
  {
   "cell_type": "code",
   "execution_count": null,
   "metadata": {},
   "outputs": [],
   "source": [
    "disp(filtered_img)"
   ]
  },
  {
   "cell_type": "code",
   "execution_count": null,
   "metadata": {},
   "outputs": [],
   "source": [
    "# Load image\n",
    "cagi = cagi_1.copy().astype(np.float32)\n",
    "\n",
    "# Convert to YCrCb\n",
    "cagi_ycbcr = cv2.cvtColor(cagi, cv2.COLOR_RGB2YCrCb)\n",
    "cagi_ycbcr_org = cagi_ycbcr.copy()\n",
    "\n",
    "# Contrast stretching on cagi\n",
    "for i in range(3):\n",
    "    cagi[:,:,i] -= cagi[:,:,i].min()\n",
    "    cagi[:,:,i] /= cagi[:,:,i].max()\n",
    "cagi *= 255\n",
    "cagi = cagi.astype(np.uint8)\n",
    "\n",
    "# Convert back to RGB\n",
    "cagi_ycbcr = cv2.cvtColor(cagi_ycbcr, cv2.COLOR_YCrCb2RGB)\n",
    "\n",
    "# Contrast stretching on cagi_ycbcr\n",
    "for i in range(3):\n",
    "    cagi_ycbcr[:,:,i] -= cagi_ycbcr[:,:,i].min()\n",
    "    cagi_ycbcr[:,:,i] /= cagi_ycbcr[:,:,i].max()\n",
    "cagi_ycbcr *= 255\n",
    "cagi_ycbcr = cagi_ycbcr.astype(np.uint8)\n",
    "\n",
    "\n",
    "disp(cagi)\n",
    "disp(cagi_ycbcr)"
   ]
  },
  {
   "cell_type": "code",
   "execution_count": null,
   "metadata": {},
   "outputs": [],
   "source": [
    "for i in range(3):\n",
    "    print(cagi[:,:,i].min(), cagi[:,:,i].max())"
   ]
  },
  {
   "cell_type": "code",
   "execution_count": null,
   "metadata": {},
   "outputs": [],
   "source": [
    "for i in range(3):\n",
    "    print(cagi_ycbcr_org[:,:,i].min(), cagi_ycbcr_org[:,:,i].max())"
   ]
  }
 ],
 "metadata": {
  "interpreter": {
   "hash": "3858431499dcaaf4de29b8b352749eebe871787bd67cf3dfc1982c43a6256c9d"
  },
  "kernelspec": {
   "display_name": "Python 3.10.1 64-bit",
   "language": "python",
   "name": "python3"
  },
  "language_info": {
   "codemirror_mode": {
    "name": "ipython",
    "version": 3
   },
   "file_extension": ".py",
   "mimetype": "text/x-python",
   "name": "python",
   "nbconvert_exporter": "python",
   "pygments_lexer": "ipython3",
   "version": "3.10.1"
  },
  "orig_nbformat": 4
 },
 "nbformat": 4,
 "nbformat_minor": 2
}
