{
 "cells": [
  {
   "cell_type": "markdown",
   "metadata": {},
   "source": [
    "# Digital Image Processing Exercise 5_3\n",
    "\n",
    "Dr. Rahmati\n",
    "\n",
    "By: Gholamreza Dar\n",
    "\n",
    "Summer 2022"
   ]
  },
  {
   "cell_type": "markdown",
   "metadata": {},
   "source": [
    "## Imports"
   ]
  },
  {
   "cell_type": "code",
   "execution_count": null,
   "metadata": {},
   "outputs": [],
   "source": [
    "import numpy as np\n",
    "\n",
    "import matplotlib.pyplot as plt\n",
    "import seaborn as sns; sns.set(); sns.set_style('dark')\n",
    "\n",
    "import cv2\n"
   ]
  },
  {
   "cell_type": "markdown",
   "metadata": {},
   "source": [
    "## Functions"
   ]
  },
  {
   "cell_type": "code",
   "execution_count": null,
   "metadata": {},
   "outputs": [],
   "source": [
    "def rgb(img):\n",
    "    return cv2.cvtColor(img, cv2.COLOR_BGR2RGB)\n",
    "\n",
    "def bgr(img):\n",
    "    return cv2.cvtColor(img, cv2.COLOR_RGB2BGR)\n",
    "\n",
    "def gray(img):\n",
    "    return cv2.cvtColor(img, cv2.COLOR_RGB2GRAY)\n",
    "\n",
    "def disp(img, title='', s=12, vmin=None, vmax=None):\n",
    "    plt.figure(figsize=(s,s))\n",
    "    plt.axis('off')\n",
    "    if vmin is not None and vmax is not None:\n",
    "        plt.imshow(img, cmap='gray', vmin=vmin, vmax=vmax)\n",
    "    else:\n",
    "        plt.imshow(img, cmap='gray')\n",
    "    plt.title(title)\n",
    "    plt.show()"
   ]
  },
  {
   "cell_type": "markdown",
   "metadata": {},
   "source": [
    "## Loading Images"
   ]
  },
  {
   "cell_type": "code",
   "execution_count": null,
   "metadata": {},
   "outputs": [],
   "source": [
    "img_a = rgb(cv2.imread('inputs/P3/cart_1.png'))\n",
    "img_b = gray(rgb(cv2.imread('inputs/P3/cart_2.png'))).astype(np.float32)\n",
    "\n",
    "img_a_hsv = cv2.cvtColor(img_a, cv2.COLOR_RGB2HSV)\n",
    "\n",
    "disp(img_a[:,:,:], 'img_a_rgb')\n",
    "disp(img_a[:,:,0], 'img_a_r')\n",
    "disp(img_a[:,:,1], 'img_a_g')\n",
    "disp(img_a[:,:,2], 'img_a_b')\n",
    "\n",
    "print()\n",
    "\n",
    "disp(img_a_hsv[:,:,:], 'img_a_hsv')\n",
    "disp(img_a_hsv[:,:,0], 'img_a_h')\n",
    "disp(img_a_hsv[:,:,1], 'img_a_s')\n",
    "disp(img_a_hsv[:,:,2], 'img_a_v')"
   ]
  },
  {
   "cell_type": "markdown",
   "metadata": {},
   "source": [
    "## Remove background"
   ]
  },
  {
   "cell_type": "code",
   "execution_count": null,
   "metadata": {},
   "outputs": [],
   "source": [
    "# We apply median filter to remove the noise in the conveyor belt\n",
    "img_a_median = cv2.medianBlur(img_a, 23)\n",
    "disp(img_a_median, 'img_a_median')\n"
   ]
  },
  {
   "cell_type": "code",
   "execution_count": null,
   "metadata": {},
   "outputs": [],
   "source": [
    "# Next let's do a color thresholding to extract the conveyor belt\n",
    "# We use the HSV color space\n",
    "\n",
    "img_a_background = cv2.inRange(img_a_hsv, (0,0.0,0), (1,0.2,100))\n",
    "# print(img_a_hsv_thresh.shape)\n",
    "\n",
    "# np.unique(img_a_hsv_thresh)\n",
    "\n",
    "disp(img_a_background, 'img_a_background')"
   ]
  },
  {
   "cell_type": "code",
   "execution_count": null,
   "metadata": {},
   "outputs": [],
   "source": [
    "# Apply median filter to remove the noise in the background\n",
    "img_a_background_median = cv2.medianBlur(img_a_background, 11)\n",
    "disp(img_a_background_median, 'img_a_background_median')"
   ]
  },
  {
   "cell_type": "code",
   "execution_count": null,
   "metadata": {},
   "outputs": [],
   "source": [
    "# Remove the conveyor belt top and bottom stripes\n",
    "h, w = img_a_background_median.shape\n",
    "STRIPE_MARGIN = 55\n",
    "img_a_clean = img_a_background_median[STRIPE_MARGIN:h-STRIPE_MARGIN, :]\n",
    "disp(img_a_clean, 'img_a_clean')"
   ]
  },
  {
   "cell_type": "code",
   "execution_count": null,
   "metadata": {},
   "outputs": [],
   "source": [
    "# Apply Opening to close white holes in objects\n",
    "KERNEL_SIZE = 27\n",
    "kernel = cv2.getStructuringElement(cv2.MORPH_RECT, (KERNEL_SIZE, KERNEL_SIZE))\n",
    "img_a_open = cv2.morphologyEx(img_a_clean, cv2.MORPH_OPEN, kernel)\n",
    "disp(img_a_open, 'img_a_open')\n",
    "\n",
    "# To remove the small dots left in the image\n",
    "img_a_open_close = cv2.morphologyEx(img_a_open, cv2.MORPH_CLOSE, kernel)\n",
    "disp(img_a_open_close, 'img_a_open_close')\n"
   ]
  },
  {
   "cell_type": "code",
   "execution_count": null,
   "metadata": {},
   "outputs": [],
   "source": [
    "# Now we have to measure the amount of pixels in each object using morphological operations\n",
    "# We use the thresholding to extract the objects\n",
    "img_a_open_close_thresh = cv2.threshold(img_a_open_close, 0, 255, cv2.THRESH_BINARY)[1]\n",
    "disp(img_a_open_close_thresh, 'img_a_open_close_thresh')\n",
    "\n",
    "# We use the connected components to measure the amount of pixels in each object\n",
    "# We use the thresholding to extract the objects\n",
    "# img_a_open_close_thresh_cc = cv2.connectedComponents(img_a_open_close_thresh)[1]\n",
    "# disp(img_a_open_close_thresh_cc, 'img_a_open_close_thresh_cc')\n"
   ]
  },
  {
   "cell_type": "code",
   "execution_count": null,
   "metadata": {},
   "outputs": [],
   "source": [
    "# Close the handle\n",
    "KERNEL_SIZE = 5\n",
    "kernel = cv2.getStructuringElement(cv2.MORPH_RECT, (KERNEL_SIZE, KERNEL_SIZE))\n",
    "img_result = cv2.morphologyEx(img_a_open_close_thresh, cv2.MORPH_OPEN, kernel, iterations=11)\n",
    "disp(img_result, 'handle removed')"
   ]
  },
  {
   "cell_type": "code",
   "execution_count": null,
   "metadata": {},
   "outputs": [],
   "source": [
    "prices = [\n",
    "    83,\n",
    "    36,\n",
    "    108,\n",
    "    30,\n",
    "    139,\n",
    "    144,\n",
    "    40,\n",
    "    50,\n",
    "    6.5,\n",
    "    8,\n",
    "    5,\n",
    "    6\n",
    "]\n",
    "\n",
    "mihan_products = [0,0,0,1,0,0,0,0,0,1,0,1]\n",
    "drinks = [0,0,0,1,0,0,0,0,1,0,0,0]\n",
    "edible_products = [0,1,1,1,0,1,1,0,1,1,1,1]\n",
    "\n",
    "POTATO_CHIPS_INDEX = 1\n",
    "TINY_INDEX = 11"
   ]
  },
  {
   "cell_type": "code",
   "execution_count": null,
   "metadata": {},
   "outputs": [],
   "source": [
    "img = img_result.copy()\n",
    "disp(img)"
   ]
  },
  {
   "cell_type": "code",
   "execution_count": null,
   "metadata": {},
   "outputs": [],
   "source": [
    "ITERS = 1\n",
    "KERNEL_SIZE = 2\n",
    "\n",
    "img = img_a_open_close_thresh.copy()\n",
    "for i in range(200):\n",
    "    img = cv2.morphologyEx(img, cv2.MORPH_DILATE, np.ones((KERNEL_SIZE, KERNEL_SIZE), np.float32), iterations=ITERS)\n",
    "    # Count connected components and report it\n",
    "    disp(img, f\"Dilate {i*ITERS} | Components={0}\",s=3)"
   ]
  },
  {
   "cell_type": "code",
   "execution_count": null,
   "metadata": {},
   "outputs": [],
   "source": [
    "ITERS = 1\n",
    "KERNEL_SIZE = 2\n",
    "\n",
    "img = img_result.copy()\n",
    "kernel = cv2.getStructuringElement(cv2.MORPH_ELLIPSE, (KERNEL_SIZE, KERNEL_SIZE))\n",
    "last_count = 100\n",
    "for i in range(1000):\n",
    "    img = cv2.morphologyEx(img, cv2.MORPH_DILATE, kernel, iterations=ITERS)\n",
    "    # Count connected components and report it\n",
    "    # ret_val, labels, stats, centeroids = cv2.connectedComponentsWithStats(img)\n",
    "    # print(centeroids)\n",
    "\n",
    "    cnts,hierarchy = cv2.findContours(img, mode=cv2.RETR_TREE, method=cv2.CHAIN_APPROX_SIMPLE)\n",
    "\n",
    "    \n",
    "    if len(cnts)-1 < last_count:\n",
    "        # print(f\"Dilate {i*ITERS} | Components={len(cnts)-1}\")\n",
    "        # disp(img, f\"Dilate {i*ITERS} | Components={len(cnts)-1}\",s=3)\n",
    "        last_count = len(cnts)-1\n",
    "\n",
    "        img_rgb = np.repeat(img[:,:,np.newaxis], 3, axis=2)\n",
    "        for c in cnts:\n",
    "            cv2.drawContours(img_rgb, [c], 0, color=(255,0,0), thickness=20)\n",
    "        disp(img_rgb,f\"Dilate {i*ITERS} | Components={len(cnts)-1}\",s=8)\n",
    "        print(f\"iter {i}\", \"items:\\t\", len(cnts)-1)\n",
    "    # break"
   ]
  },
  {
   "cell_type": "code",
   "execution_count": null,
   "metadata": {},
   "outputs": [],
   "source": [
    "hierarchy"
   ]
  }
 ],
 "metadata": {
  "kernelspec": {
   "display_name": "Python 3.9.1 64-bit",
   "language": "python",
   "name": "python3"
  },
  "language_info": {
   "codemirror_mode": {
    "name": "ipython",
    "version": 3
   },
   "file_extension": ".py",
   "mimetype": "text/x-python",
   "name": "python",
   "nbconvert_exporter": "python",
   "pygments_lexer": "ipython3",
   "version": "3.9.1"
  },
  "orig_nbformat": 4,
  "vscode": {
   "interpreter": {
    "hash": "81794d4967e6c3204c66dcd87b604927b115b27c00565d3d43f05ba2f3a2cb0d"
   }
  }
 },
 "nbformat": 4,
 "nbformat_minor": 2
}
